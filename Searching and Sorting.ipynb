{
 "cells": [
  {
   "cell_type": "markdown",
   "id": "e069ab2e",
   "metadata": {},
   "source": [
    "# Code Binary Search"
   ]
  },
  {
   "cell_type": "markdown",
   "id": "faffa824",
   "metadata": {},
   "source": [
    "You have been given a sorted(in ascending order) integer array/list(ARR) of size N and an element X. Write a function to <br> \n",
    "search this element in the given input array/list using 'Binary Search'. Return the index of the element in the input <br>array/list. In case the element is not present in the array/list, then return -1.<br>"
   ]
  },
  {
   "cell_type": "code",
   "execution_count": 3,
   "id": "0269f4a2",
   "metadata": {},
   "outputs": [
    {
     "name": "stdout",
     "output_type": "stream",
     "text": [
      "7\n",
      "1 3 7 9 11 12 45\n",
      "3\n",
      "1\n"
     ]
    }
   ],
   "source": [
    "def binarySearch(arr, n, x) :\n",
    "    start = 0;\n",
    "    end = n - 1\n",
    "    mid = start\n",
    "    \n",
    "    while start <= end :\n",
    "        \n",
    "        mid = start + (end - start) // 2\n",
    "\n",
    "        if arr[mid] > x :\n",
    "            end = mid - 1\n",
    "        elif arr[mid] < x :\n",
    "            start = mid + 1\n",
    "        else :\n",
    "            return mid\n",
    "        \n",
    "    return -1\n",
    "\n",
    "n = int(input())\n",
    "arr = list(map(int,input().split()))\n",
    "x = int(input())\n",
    "\n",
    "print(binarySearch(arr, n, x))"
   ]
  },
  {
   "cell_type": "markdown",
   "id": "1400a5c5",
   "metadata": {},
   "source": [
    "# Code Bubble Sort"
   ]
  },
  {
   "cell_type": "markdown",
   "id": "3a16a836",
   "metadata": {},
   "source": [
    "Provided with a random integer array/list(ARR) of size N, you have been required to sort this array using 'Bubble Sort'.<br>\n",
    "Note:<br>\n",
    "Change in the input array/list itself. You don't need to return or print the elements.<br>"
   ]
  },
  {
   "cell_type": "code",
   "execution_count": 5,
   "id": "e080214a",
   "metadata": {},
   "outputs": [
    {
     "name": "stdout",
     "output_type": "stream",
     "text": [
      "7\n",
      "2 13 4 1 3 6 28\n",
      "[1, 2, 3, 4, 6, 13, 28]\n"
     ]
    }
   ],
   "source": [
    "def bubbleSort(arr, n) :\n",
    "    length  = len(arr)\n",
    "    for i in range(length-1):\n",
    "        for j in range(length-1):\n",
    "            if arr[j] > arr[j+1]:\n",
    "                arr[j],arr[j+1] = arr[j+1],arr[j]\n",
    "    \n",
    "    return arr\n",
    "                \n",
    "                \n",
    "n = int(input())\n",
    "arr = list(map(int,input().split()))\n",
    "\n",
    "print(bubbleSort(arr, n))"
   ]
  },
  {
   "cell_type": "markdown",
   "id": "2e14f848",
   "metadata": {},
   "source": [
    "# Code Insertion Sort"
   ]
  },
  {
   "cell_type": "markdown",
   "id": "dd8176a2",
   "metadata": {},
   "source": [
    "Provided with a random integer array/list(ARR) of size N, you have been required to sort this array using 'Insertion Sort'.<br>\n",
    " Note:<br>\n",
    "Change in the input array/list itself. You don't need to return or print the elements.<br>"
   ]
  },
  {
   "cell_type": "code",
   "execution_count": 6,
   "id": "16f20d2c",
   "metadata": {},
   "outputs": [
    {
     "name": "stdout",
     "output_type": "stream",
     "text": [
      "7\n",
      "2 13 4 1 3 6 28\n",
      "[1, 2, 3, 4, 6, 13, 28]\n"
     ]
    }
   ],
   "source": [
    "from sys import stdin\n",
    "\n",
    "def insertionSort(arr, n) :  \n",
    "    \n",
    "    for i in range(1,n):\n",
    "        j = i-1\n",
    "        temp = arr[i]\n",
    "        while (j>=0 and arr[j]>temp):\n",
    "            arr[j+1] = arr[j]\n",
    "            j = j-1\n",
    "            \n",
    "        arr[j+1] = temp\n",
    "        \n",
    "    return arr\n",
    "        \n",
    "n = int(input())\n",
    "arr = list(map(int,input().split()))\n",
    "\n",
    "print(insertionSort(arr, n))"
   ]
  },
  {
   "cell_type": "markdown",
   "id": "d6f511c8",
   "metadata": {},
   "source": [
    "# Code Merge Two Sorted Arrays"
   ]
  },
  {
   "cell_type": "markdown",
   "id": "e19983da",
   "metadata": {},
   "source": [
    "You have been given two sorted arrays/lists(ARR1 and ARR2) of size N and M respectively, merge them into a third<br> \n",
    "array/list such that the third array is also sorted.<br>"
   ]
  },
  {
   "cell_type": "code",
   "execution_count": 7,
   "id": "476059f3",
   "metadata": {},
   "outputs": [
    {
     "name": "stdout",
     "output_type": "stream",
     "text": [
      "5\n",
      "1 3 4 7 11\n",
      "4\n",
      "2 4 6 13\n",
      "[1, 2, 3, 4, 4, 6, 7, 11, 13]\n"
     ]
    }
   ],
   "source": [
    "def merge(arr1, n, arr2, m) :\n",
    "    i = 0\n",
    "    j = 0\n",
    "    arr3 = []\n",
    "    while i < n and j < m:\n",
    "        if arr1[i] <= arr2[j]:\n",
    "            arr3.append(arr1[i])\n",
    "            i = i+1\n",
    "        else:\n",
    "            arr3.append(arr2[j])\n",
    "            j = j+1\n",
    "    while i < n:\n",
    "        arr3.append(arr1[i])\n",
    "        i = i+1\n",
    "    while j < m:\n",
    "        arr3.append(arr2[j])\n",
    "        j = j+1\n",
    "    return arr3\n",
    "\n",
    "n = int(input())\n",
    "arr1 = list(map(int,input().split()))\n",
    "\n",
    "m = int(input())\n",
    "arr2 = list(map(int,input().split()))\n",
    "\n",
    "\n",
    "print(merge(arr1, n, arr2, m))"
   ]
  },
  {
   "cell_type": "markdown",
   "id": "33eb2d7a",
   "metadata": {},
   "source": [
    "# Push Zeros to end"
   ]
  },
  {
   "cell_type": "markdown",
   "id": "20e65a52",
   "metadata": {},
   "source": [
    "You have been given a random integer array/list(ARR) of size N. You have been required to push all the zeros that are <br>\n",
    "present in the array/list to the end of it. Also, make sure to maintain the relative order of the non-zero elements.<br>\n",
    "Note:<br>\n",
    "Change in the input array/list itself. You don't need to return or print the elements.<br>\n",
    "\n",
    "You need to do this in one scan of array only. Don't use extra space.<br>\n"
   ]
  },
  {
   "cell_type": "code",
   "execution_count": 8,
   "id": "900d4aeb",
   "metadata": {},
   "outputs": [
    {
     "name": "stdout",
     "output_type": "stream",
     "text": [
      "7\n",
      "2 0 0 1 3 0 0\n",
      "[2, 1, 3, 0, 0, 0, 0]\n"
     ]
    }
   ],
   "source": [
    "def pushZerosAtEnd(arr, n) :\n",
    "    i = 0\n",
    "    k = 0\n",
    "    while i < n and k < n:\n",
    "        if arr[i] == 0:\n",
    "            i = i+1\n",
    "        else:\n",
    "            arr[i],arr[k] = arr[k],arr[i]\n",
    "            i = i+1\n",
    "            k = k+1\n",
    "            \n",
    "    return arr\n",
    "\n",
    "n = int(input())\n",
    "arr = list(map(int,input().split()))\n",
    "\n",
    "print(pushZerosAtEnd(arr, n))"
   ]
  },
  {
   "cell_type": "markdown",
   "id": "8441f6d9",
   "metadata": {},
   "source": [
    "# Sort 0 1 2"
   ]
  },
  {
   "cell_type": "markdown",
   "id": "197629a1",
   "metadata": {},
   "source": [
    "You are given an integer array/list(ARR) of size N. It contains only 0s, 1s and 2s. Write a solution to sort this <br>\n",
    "array/list in a 'single scan'.<br>\n",
    "'Single Scan' refers to iterating over the array/list just once or to put it in other words, you will be visiting each <br>\n",
    "element in the array/list just once.<br>\n",
    "Note:<br>\n",
    "You need to change in the given array/list itself. Hence, no need to return or print anything. <br>"
   ]
  },
  {
   "cell_type": "code",
   "execution_count": 10,
   "id": "d057f063",
   "metadata": {},
   "outputs": [
    {
     "name": "stdout",
     "output_type": "stream",
     "text": [
      "7\n",
      "0 1 2 0 2 0 1\n",
      "[0, 0, 0, 1, 1, 2, 2]\n"
     ]
    }
   ],
   "source": [
    "def sort012(arr, n) :\n",
    "    nz = 0\n",
    "    nt = n-1\n",
    "    i = 0\n",
    "    \n",
    "    while i <= nt: \n",
    "        if arr[i] == 0:\n",
    "            arr[nz],arr[i] = arr[i],arr[nz]\n",
    "            nz = nz+1\n",
    "            i=i+1\n",
    "        \n",
    "        elif arr[i] == 2:\n",
    "            arr[nt],arr[i] = arr[i],arr[nt]\n",
    "            nt = nt-1\n",
    "        else:\n",
    "            i=i+1\n",
    "            \n",
    "    return arr\n",
    "            \n",
    "n = int(input())\n",
    "arr = list(map(int,input().split()))\n",
    "\n",
    "print(sort012(arr, n))"
   ]
  },
  {
   "cell_type": "markdown",
   "id": "d150dc19",
   "metadata": {},
   "source": [
    "# Sum of Two Arrays"
   ]
  },
  {
   "cell_type": "code",
   "execution_count": 13,
   "id": "3119cf60",
   "metadata": {},
   "outputs": [
    {
     "name": "stdout",
     "output_type": "stream",
     "text": [
      "3\n",
      "6 2 4\n",
      "3\n",
      "7 5 6\n",
      "[1, 3, 8, 0]\n"
     ]
    }
   ],
   "source": [
    "def sumOfTwoArrays(arr1, n, arr2, m,  output) :\n",
    "    i = n - 1\n",
    "    j = m - 1\n",
    "    carry = 0\n",
    "    k = max(n, m)\n",
    "    #k is the current index output array\n",
    "    while i >= 0 and j >= 0 :\n",
    "        SUM = arr1[i] + arr2[j] + carry\n",
    "        output[k] = SUM % 10\n",
    "        carry = SUM // 10\n",
    "        i -= 1\n",
    "        j -= 1\n",
    "        k -= 1\n",
    "    while i >= 0 :\n",
    "        SUM = arr1[i] + carry\n",
    "        output[k] = SUM % 10\n",
    "        carry = SUM // 10\n",
    "        i -= 1\n",
    "        k -= 1\n",
    "    while j >= 0 :\n",
    "        SUM = arr2[j] + carry\n",
    "        output[k] = SUM % 10\n",
    "        carry = SUM // 10\n",
    "        j -= 1\n",
    "        k -= 1\n",
    "    output[0] = carry\n",
    "    \n",
    "    return output\n",
    "    \n",
    "n = int(input())\n",
    "arr1 = list(map(int,input().split()))\n",
    "\n",
    "m = int(input())\n",
    "arr2 = list(map(int,input().split()))\n",
    "\n",
    "outputSize = (1 + max(n, m))\n",
    "output = outputSize * [0]\n",
    "\n",
    "print(sumOfTwoArrays(arr1, n, arr2, m, output))"
   ]
  },
  {
   "cell_type": "markdown",
   "id": "01febcd2",
   "metadata": {},
   "source": [
    "# Merge Sort Code"
   ]
  },
  {
   "cell_type": "markdown",
   "id": "261fa128",
   "metadata": {},
   "source": [
    "Sort an array A using Merge Sort.<br>\n",
    "Change in the input array itself. So no need to return or print anything.<br>"
   ]
  },
  {
   "cell_type": "code",
   "execution_count": 14,
   "id": "9038a07f",
   "metadata": {},
   "outputs": [
    {
     "name": "stdout",
     "output_type": "stream",
     "text": [
      "6\n",
      "2 6 8 5 4 3\n",
      "2 3 4 5 6 8\n"
     ]
    }
   ],
   "source": [
    "def merge(arr1,arr2,arr):\n",
    "    i = 0\n",
    "    j = 0\n",
    "    k = 0\n",
    "    while i < len(arr1) and j < len(arr2):\n",
    "        if (arr1[i]<arr2[j]):\n",
    "            arr[k] = arr1[i]\n",
    "            k = k+1\n",
    "            i = i+1\n",
    "        else:\n",
    "            arr[k] = arr2[j]\n",
    "            k = k+1\n",
    "            j = j+1\n",
    "    while i < len(arr1):\n",
    "        arr[k] = arr1[i]\n",
    "        k = k+1\n",
    "        i = i+1\n",
    "    while j < len(arr2):\n",
    "        arr[k] = arr2[j]\n",
    "        k = k+1\n",
    "        j = j+1\n",
    "\n",
    "\n",
    "def mergeSort(arr, start, end):\n",
    "    if len(arr) == 0 or len(arr) == 1:\n",
    "        return \n",
    "    mid = len(arr)//2\n",
    "    arr1 = arr[0:mid]\n",
    "    arr2 = arr[mid:]\n",
    "    \n",
    "    mergeSort(arr1,start,end)\n",
    "    mergeSort(arr2,start,end)\n",
    "    \n",
    "    merge(arr1,arr2,arr)\n",
    "# Main\n",
    "n=int(input())\n",
    "arr=list(int(i) for i in input().strip().split(' '))\n",
    "mergeSort(arr, 0, n)\n",
    "print(*arr)\n"
   ]
  },
  {
   "cell_type": "markdown",
   "id": "bc8cd204",
   "metadata": {},
   "source": [
    "# Quick Sort Code"
   ]
  },
  {
   "cell_type": "markdown",
   "id": "93aad3f7",
   "metadata": {},
   "source": [
    "Sort an array A using Quick Sort.<br>\n",
    "Change in the input array itself. So no need to return or print anything.<br>"
   ]
  },
  {
   "cell_type": "code",
   "execution_count": 15,
   "id": "7858475b",
   "metadata": {},
   "outputs": [
    {
     "name": "stdout",
     "output_type": "stream",
     "text": [
      "5\n",
      "1 5 2 7 3\n",
      "1 2 3 5 7\n"
     ]
    }
   ],
   "source": [
    "def partition(arr,start,end):\n",
    "    pivot = arr[start]\n",
    "    \n",
    "    c = 0\n",
    "    for i in range(start,end+1):\n",
    "        if arr[i] < pivot:\n",
    "            c = c+1\n",
    "    arr[start+c],arr[start] = arr[start],arr[start+c]\n",
    "    pivot_index = start+c\n",
    "        \n",
    "    i = start\n",
    "    j = end\n",
    "    while i<j:\n",
    "        if arr[i] < pivot:\n",
    "            i = i+1\n",
    "        elif arr[j] >= pivot:\n",
    "            j = j-1\n",
    "        else:\n",
    "            arr[i],arr[j] = arr[j],arr[i]\n",
    "            i = i+1\n",
    "            j = j-1\n",
    "    return pivot_index\n",
    "\n",
    "def quickSort(arr, start, end):\n",
    "    if start >= end:\n",
    "        return \n",
    "    \n",
    "    pivot_index = partition(arr,start,end)\n",
    "    quickSort(arr,start,pivot_index-1)\n",
    "    quickSort(arr,pivot_index+1,end)\n",
    "\n",
    "n=int(input())\n",
    "arr=list(int(i) for i in input().strip().split(' '))\n",
    "quickSort(arr, 0, n-1)\n",
    "print(*arr)\n"
   ]
  },
  {
   "cell_type": "code",
   "execution_count": null,
   "id": "3eeeca2e",
   "metadata": {},
   "outputs": [],
   "source": []
  }
 ],
 "metadata": {
  "kernelspec": {
   "display_name": "Python 3",
   "language": "python",
   "name": "python3"
  },
  "language_info": {
   "codemirror_mode": {
    "name": "ipython",
    "version": 3
   },
   "file_extension": ".py",
   "mimetype": "text/x-python",
   "name": "python",
   "nbconvert_exporter": "python",
   "pygments_lexer": "ipython3",
   "version": "3.8.8"
  }
 },
 "nbformat": 4,
 "nbformat_minor": 5
}
