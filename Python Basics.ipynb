{
 "cells": [
  {
   "cell_type": "markdown",
   "id": "6d96ee9f",
   "metadata": {},
   "source": [
    "# Reverse of a number"
   ]
  },
  {
   "cell_type": "markdown",
   "id": "57c08366",
   "metadata": {},
   "source": [
    "Write a program to generate the reverse of a given number N. Print the corresponding reverse number.<br>\n",
    "Note : If a number has trailing zeros, then its reverse will not include them. For e.g., reverse of 10400 will be 401 instead of 00401."
   ]
  },
  {
   "cell_type": "code",
   "execution_count": 2,
   "id": "449f1600",
   "metadata": {},
   "outputs": [
    {
     "name": "stdout",
     "output_type": "stream",
     "text": [
      "1980\n",
      "891\n"
     ]
    }
   ],
   "source": [
    "def reverse(n):\n",
    "    rev=0\n",
    "    while n>0:\n",
    "        n1 = n%10\n",
    "        rev = (rev*10)+ n1\n",
    "        n  = int(n/10)\n",
    "    return rev\n",
    "n=int(input())\n",
    "result = reverse(n)\n",
    "print(result)"
   ]
  },
  {
   "cell_type": "markdown",
   "id": "1780c025",
   "metadata": {},
   "source": [
    "# Palindrome number"
   ]
  },
  {
   "cell_type": "markdown",
   "id": "8e554998",
   "metadata": {},
   "source": [
    "Write a program to determine if given number is palindrome or not. Print true if it is palindrome, false otherwise.<br>\n",
    "<b>Palindrome are the numbers for which reverse is exactly same as the original one. For eg. 121 </b>"
   ]
  },
  {
   "cell_type": "code",
   "execution_count": 3,
   "id": "f37554cb",
   "metadata": {},
   "outputs": [
    {
     "name": "stdout",
     "output_type": "stream",
     "text": [
      "121\n",
      "true\n"
     ]
    }
   ],
   "source": [
    "def checkPalindrome(num):\n",
    "    n2 = num\n",
    "    rev=0\n",
    "    while num>0:\n",
    "        num1 = num%10\n",
    "        rev = (rev*10) + num1\n",
    "        num = int(num/10)\n",
    "    return rev == n2\n",
    "\n",
    "num = int(input())\n",
    "isPalindrome = checkPalindrome(num)\n",
    "if(isPalindrome):\n",
    "\tprint('true')\n",
    "else:\n",
    "\tprint('false')"
   ]
  },
  {
   "cell_type": "markdown",
   "id": "2182ddd8",
   "metadata": {},
   "source": [
    "# Nth Fibonacci Number"
   ]
  },
  {
   "cell_type": "markdown",
   "id": "3fadc918",
   "metadata": {},
   "source": [
    "Nth term of Fibonacci series F(n), where F(n) is a function, is calculated using the following formula -<br>\n",
    "    F(n) = F(n-1) + F(n-2), <br>\n",
    "    Where, F(1) = F(2) = 1<br>\n",
    "Provided N you have to find out the Nth Fibonacci Number.<br>"
   ]
  },
  {
   "cell_type": "code",
   "execution_count": 4,
   "id": "708d60cc",
   "metadata": {},
   "outputs": [
    {
     "name": "stdout",
     "output_type": "stream",
     "text": [
      "6\n",
      "8\n"
     ]
    }
   ],
   "source": [
    "## Read input as specified in the question.\n",
    "## Print output as specified in the question.\n",
    "n = int(input())\n",
    "i = 3\n",
    "f1 = 1\n",
    "f2 = 1\n",
    "if n == 1:\n",
    "    print(f1)\n",
    "if n == 2:\n",
    "    print(f2)\n",
    "if n>2:\n",
    "    while i <= n:\n",
    "        fn = f1 + f2\n",
    "        f1 = f2\n",
    "        f2 = fn        \n",
    "        i = i+1\n",
    "    print(fn)"
   ]
  },
  {
   "cell_type": "markdown",
   "id": "f15b7aba",
   "metadata": {},
   "source": [
    "# Arrow pattern"
   ]
  },
  {
   "cell_type": "markdown",
   "id": "d6722e1a",
   "metadata": {},
   "source": [
    "Print the following pattern for the given number of rows.<br>\n",
    "Assume N is always odd.<br>\n",
    "Note : There is space after every star.<br>\n",
    "Pattern for N = 7<br>\n",
    "*<br>\n",
    " * *<br>\n",
    "   * * *<br>\n",
    "     * * * *<br>\n",
    "   * * *<br>\n",
    " * *<br>\n",
    "*<br>"
   ]
  },
  {
   "cell_type": "code",
   "execution_count": 5,
   "id": "c5561134",
   "metadata": {},
   "outputs": [
    {
     "name": "stdout",
     "output_type": "stream",
     "text": [
      "11\n",
      "*           \n",
      " * *         \n",
      "  * * *       \n",
      "   * * * *     \n",
      "    * * * * *   \n",
      "     * * * * * * \n",
      "    * * * * *   \n",
      "   * * * *     \n",
      "  * * *       \n",
      " * *         \n",
      "*           \n"
     ]
    }
   ],
   "source": [
    "## Read input as specified in the question.\n",
    "## Print output as specified in the question.\n",
    "n = int(input())\n",
    "l = (n//2) + 1\n",
    "i = 1\n",
    "while i <= l:\n",
    "    space = 1\n",
    "    while space <= i-1:\n",
    "        print(\" \", end =\"\")\n",
    "        space = space + 1\n",
    "    stars = 1\n",
    "    while stars <= i:\n",
    "        print(\"* \", end =\"\")\n",
    "        stars = stars + 1\n",
    "    space1 = (2*l) - (2*i)\n",
    "    while space1 >= 1:\n",
    "        print(\" \", end = \"\")\n",
    "        space1 = space1 - 1\n",
    "    print()\n",
    "    i = i + 1\n",
    "m = n - l\n",
    "k = 1\n",
    "while k <= m:\n",
    "    space2 = 1\n",
    "    while space2 <= m-k:\n",
    "        print(\" \", end = \"\")\n",
    "        space2 = space2 + 1\n",
    "    stars2 = 1\n",
    "    while stars2 <= m-k+1:\n",
    "        print(\"* \", end = \"\")\n",
    "        stars2 = stars2 + 1\n",
    "    space3 = 1\n",
    "    while space3 <= 2*k:\n",
    "        print(\" \", end = \"\")\n",
    "        space3 = space3 + 1\n",
    "    print()\n",
    "    k = k+1\n"
   ]
  },
  {
   "cell_type": "markdown",
   "id": "ec6a6bf3",
   "metadata": {},
   "source": [
    "# Code : Diamond of stars"
   ]
  },
  {
   "cell_type": "code",
   "execution_count": 6,
   "id": "746673d6",
   "metadata": {},
   "outputs": [
    {
     "name": "stdout",
     "output_type": "stream",
     "text": [
      "5\n",
      "  *\n",
      " ***\n",
      "*****\n",
      " ***\n",
      "  *\n"
     ]
    }
   ],
   "source": [
    "## Read input as specified in the question.\n",
    "## Print output as specified in the question.\n",
    "n = int(input())\n",
    "k = (n//2)+1\n",
    "i = 1\n",
    "while i <= k:\n",
    "    spaces = 1\n",
    "    while spaces <= k-i:\n",
    "        print(' ', end = \"\")\n",
    "        spaces = spaces + 1\n",
    "    stars = 1\n",
    "    while stars <= i:\n",
    "        print('*', end = \"\")\n",
    "        stars = stars + 1\n",
    "    p = i - 1\n",
    "    while p >=1:\n",
    "        print(\"*\", end = \"\")\n",
    "        p = p - 1\n",
    "    print()\n",
    "    i = i + 1\n",
    "m = 1 \n",
    "while m <= (n - k):\n",
    "    spaces1 = 1\n",
    "    while spaces1 <= m:\n",
    "        print(' ', end = \"\")\n",
    "        spaces1 = spaces1 + 1\n",
    "    stars1 = 1\n",
    "    while stars1 <= n - k - m + 1:\n",
    "        print('*', end = \"\")\n",
    "        stars1 = stars1 + 1\n",
    "    p1 = 1\n",
    "    while p1 <= n - k -m :\n",
    "        print(\"*\", end = \"\")\n",
    "        p1 = p1 + 1\n",
    "    print()\n",
    "    m = m + 1\n",
    "    "
   ]
  },
  {
   "cell_type": "markdown",
   "id": "5f0d42f3",
   "metadata": {},
   "source": [
    "# Print the pattern"
   ]
  },
  {
   "cell_type": "markdown",
   "id": "ebfc3738",
   "metadata": {},
   "source": [
    "Print the following pattern for the given number of rows.<br>\n",
    "Pattern for N = 5<br>\n",
    " 1    2   3    4   5<br>\n",
    " 11   12  13   14  15<br>\n",
    " 21   22  23   24  25<br>\n",
    " 16   17  18   19  20<br>\n",
    " 6    7    8   9   10<br>"
   ]
  },
  {
   "cell_type": "code",
   "execution_count": 7,
   "id": "3bd2c249",
   "metadata": {},
   "outputs": [
    {
     "name": "stdout",
     "output_type": "stream",
     "text": [
      "4\n",
      "1 2 3 4 \n",
      "9 10 11 12 \n",
      "13 14 15 16 \n",
      "5 6 7 8 \n"
     ]
    }
   ],
   "source": [
    "n=int(input())\n",
    "startValue=1\n",
    "for i in range(1,n+1):\n",
    "    for j in range(startValue,startValue+n):\n",
    "        print(j,end=' ')\n",
    "    print()\n",
    "    if(i==((n+1)//2)):\n",
    "        if((n%2)!=0):\n",
    "            startValue=n*(n-2)+1\n",
    "        else:\n",
    "            startValue=n*(n-1)+1\n",
    "    elif((i>(n+1)//2)):\n",
    "        startValue=startValue-2*n\n",
    "    else:\n",
    "        startValue=startValue + 2*n\n",
    "            "
   ]
  },
  {
   "cell_type": "markdown",
   "id": "4423cc03",
   "metadata": {},
   "source": [
    "# Check Armstrong"
   ]
  },
  {
   "cell_type": "markdown",
   "id": "aa82c267",
   "metadata": {},
   "source": [
    "Write a Program to determine if the given number is Armstrong number or not. Print true if number is armstrong, otherwise <br>\n",
    "print false.<br>\n",
    "An Armstrong number is a number (with digits n) such that the sum of its digits raised to nth power is equal to the number<br> itself.<br>\n",
    "For example,<br>\n",
    "371, as 3^3 + 7^3 + 1^3 = 371<br>\n",
    "1634, as 1^4 + 6^4 + 3^4 + 4^4 = 1634<br>"
   ]
  },
  {
   "cell_type": "code",
   "execution_count": 8,
   "id": "83179e3c",
   "metadata": {},
   "outputs": [
    {
     "name": "stdout",
     "output_type": "stream",
     "text": [
      "103\n",
      "false\n"
     ]
    }
   ],
   "source": [
    "## Read input as specified in the question.\n",
    "## Print output as specified in the question.\n",
    "def isArmstrong(n):\n",
    "    num = n\n",
    "    num1 = n\n",
    "    rev = 0\n",
    "    p = 0\n",
    "    while num1 > 0:\n",
    "        p = p+1\n",
    "        num1 = num1//10\n",
    "    while n>0:\n",
    "        n1 = n % 10\n",
    "        rev = rev + (n1**p)\n",
    "        n = n//10\n",
    "    return rev == num\n",
    "\n",
    "n = int(input())\n",
    "if isArmstrong(n):\n",
    "    print(\"true\")\n",
    "else:\n",
    "    print(\"false\")"
   ]
  },
  {
   "cell_type": "markdown",
   "id": "62d72f0e",
   "metadata": {},
   "source": [
    "# Pair Sum"
   ]
  },
  {
   "cell_type": "markdown",
   "id": "f9db26af",
   "metadata": {},
   "source": [
    "You have been given an integer array/list(ARR) and a number X. Find and return the total number of pairs in the <br>\n",
    "array/list which sum to X.<br>\n",
    "Note:<br>\n",
    "Given array/list can contain duplicate elements. <br>"
   ]
  },
  {
   "cell_type": "code",
   "execution_count": 16,
   "id": "747d5d2a",
   "metadata": {},
   "outputs": [
    {
     "ename": "NameError",
     "evalue": "name 'arr' is not defined",
     "output_type": "error",
     "traceback": [
      "\u001b[1;31m---------------------------------------------------------------------------\u001b[0m",
      "\u001b[1;31mNameError\u001b[0m                                 Traceback (most recent call last)",
      "\u001b[1;32m<ipython-input-16-8baa1633985a>\u001b[0m in \u001b[0;36m<module>\u001b[1;34m\u001b[0m\n\u001b[0;32m     35\u001b[0m         \u001b[1;32mpass\u001b[0m\u001b[1;33m\u001b[0m\u001b[1;33m\u001b[0m\u001b[0m\n\u001b[0;32m     36\u001b[0m \u001b[1;33m\u001b[0m\u001b[0m\n\u001b[1;32m---> 37\u001b[1;33m     \u001b[0mprint\u001b[0m\u001b[1;33m(\u001b[0m\u001b[0mpairSum\u001b[0m\u001b[1;33m(\u001b[0m\u001b[0marr\u001b[0m\u001b[1;33m,\u001b[0m \u001b[0mn\u001b[0m\u001b[1;33m,\u001b[0m \u001b[0mx\u001b[0m\u001b[1;33m)\u001b[0m\u001b[1;33m)\u001b[0m\u001b[1;33m\u001b[0m\u001b[1;33m\u001b[0m\u001b[0m\n\u001b[0m\u001b[0;32m     38\u001b[0m \u001b[1;33m\u001b[0m\u001b[0m\n\u001b[0;32m     39\u001b[0m     \u001b[0mt\u001b[0m \u001b[1;33m-=\u001b[0m \u001b[1;36m1\u001b[0m\u001b[1;33m\u001b[0m\u001b[1;33m\u001b[0m\u001b[0m\n",
      "\u001b[1;31mNameError\u001b[0m: name 'arr' is not defined"
     ]
    }
   ],
   "source": [
    "\n",
    "from sys import stdin\n",
    "\n",
    "\n",
    "def pairSum(arr, n, x) :\n",
    "    sum = 0\n",
    "    for i in range(len(arr)):\n",
    "        for j in range(i+1,n):\n",
    "            if i != j:\n",
    "                if arr[i] + arr[j] == x:\n",
    "                    sum = sum +1\n",
    "    return sum\n",
    "\n",
    "#Taking Input Using Fast I/O\n",
    "def takeInput() :\n",
    "    n = int(stdin.readline().strip())\n",
    "    if n == 0 :\n",
    "        return list(), 0\n",
    "\n",
    "    arr = list(map(int, stdin.readline().strip().split(\" \")))\n",
    "    return arr, n\n",
    "\n",
    "\n",
    "#main\n",
    "try:\n",
    "    t = int(stdin.readline().strip())\n",
    "except ValueError:\n",
    "    pass\n",
    "\n",
    "while t > 0 :\n",
    "    \n",
    "    try:\n",
    "        arr, n = takeInput()\n",
    "        x = int(stdin.readline().strip())\n",
    "    except ValueError:\n",
    "        pass\n",
    "    \n",
    "    print(pairSum(arr, n, x))\n",
    "\n",
    "    t -= 1"
   ]
  },
  {
   "cell_type": "code",
   "execution_count": 21,
   "id": "f2740986",
   "metadata": {},
   "outputs": [
    {
     "name": "stdout",
     "output_type": "stream",
     "text": [
      "9\n",
      "1 3 6 2 5 4 3 2 4\n",
      "7\n",
      "7\n"
     ]
    }
   ],
   "source": [
    "import sys\n",
    "\n",
    "def pairSum(arr, n, x) :\n",
    "    sum = 0\n",
    "    for i in range(len(arr)):\n",
    "        for j in range(i+1,n):\n",
    "            if i != j:\n",
    "                if arr[i] + arr[j] == x:\n",
    "                    sum = sum +1\n",
    "    return sum\n",
    "\n",
    "n = int(input())\n",
    "arr = list(map(int,input().split()))\n",
    "x = int(input())\n",
    "\n",
    "print(pairSum(arr, n, x))"
   ]
  },
  {
   "cell_type": "markdown",
   "id": "74aa49d6",
   "metadata": {},
   "source": [
    "# Triplet Sum"
   ]
  },
  {
   "cell_type": "markdown",
   "id": "51aa8b3d",
   "metadata": {},
   "source": [
    "You have been given a random integer array/list(ARR) and a number X. Find and return the number of triplets in the <br>\n",
    "array/list which sum to X.<br>\n",
    "Note :<br>\n",
    "Given array/list can contain duplicate elements.<br>"
   ]
  },
  {
   "cell_type": "code",
   "execution_count": 22,
   "id": "a2149030",
   "metadata": {},
   "outputs": [
    {
     "name": "stdout",
     "output_type": "stream",
     "text": [
      "7\n",
      "1 2 3 4 5 6 7 \n",
      "12\n",
      "5\n"
     ]
    }
   ],
   "source": [
    "from sys import stdin\n",
    "\n",
    "def findTriplet(arr, n, x) :\n",
    "    sum = 0\n",
    "    for i in range(n):\n",
    "        for j in range(i+1,n):\n",
    "            for k in range(j+1,n):\n",
    "                if arr[i] + arr[j] + arr[k] ==x:\n",
    "                    sum = sum+1\n",
    "    \n",
    "    return sum\n",
    "\n",
    "\n",
    "n = int(input())\n",
    "arr = list(map(int,input().split()))\n",
    "x = int(input())\n",
    "\n",
    "print(findTriplet(arr, n, x))"
   ]
  },
  {
   "cell_type": "markdown",
   "id": "0292157a",
   "metadata": {},
   "source": [
    "# Sort 0 1"
   ]
  },
  {
   "cell_type": "markdown",
   "id": "320532d8",
   "metadata": {},
   "source": [
    "You have been given an integer array/list(ARR) of size N that contains only integers, 0 and 1. Write a function to sort <br>\n",
    "this array/list. Think of a solution which scans the array/list only once and don't require use of an extra array/list.<br>\n",
    "Note:<br>\n",
    "You need to change in the given array/list itself. Hence, no need to return or print anything. <br>"
   ]
  },
  {
   "cell_type": "code",
   "execution_count": 24,
   "id": "d557582c",
   "metadata": {},
   "outputs": [
    {
     "name": "stdout",
     "output_type": "stream",
     "text": [
      "7\n",
      "0 1 1 0 1 0 1\n",
      "[0, 0, 0, 1, 1, 1, 1]\n"
     ]
    }
   ],
   "source": [
    "def sortZeroesAndOne(arr, n) :\n",
    "    nextzero=0\n",
    "    for i in range(n):\n",
    "        if arr[i]==0:\n",
    "            temp=arr[nextzero]\n",
    "            arr[nextzero]=arr[i]\n",
    "            arr[i]=temp\n",
    "            nextzero+=1\n",
    "    return arr\n",
    "\n",
    "n = int(input())\n",
    "arr = list(map(int,input().split()))\n",
    "\n",
    "print(sortZeroesAndOne(arr, n))"
   ]
  },
  {
   "cell_type": "markdown",
   "id": "ec50e97a",
   "metadata": {},
   "source": [
    "# Reverse Each Word"
   ]
  },
  {
   "cell_type": "markdown",
   "id": "937be89b",
   "metadata": {},
   "source": [
    "Aadil has been provided with a sentence in the form of a string as a function parameter. The task is to implement a <br>\n",
    "function so as to print the sentence such that each word in the sentence is reversed.<br>\n",
    "Example:<br>\n",
    "Input Sentence: \"Hello, I am Aadil!\"<br>\n",
    "The expected output will print, \",olleH I ma !lidaA\".<br>"
   ]
  },
  {
   "cell_type": "code",
   "execution_count": 27,
   "id": "6afcc7c8",
   "metadata": {},
   "outputs": [
    {
     "name": "stdout",
     "output_type": "stream",
     "text": [
      "Always indent your code\n",
      "syawlA tnedni ruoy edoc \n"
     ]
    }
   ],
   "source": [
    "from sys import stdin\n",
    "\n",
    "\n",
    "def reverseEachWord(string) :\n",
    "    string1 = \"\"\n",
    "    string2 = string.split()\n",
    "    for i in range(len(string2)):\n",
    "        a = string2[i]\n",
    "        for j in range(len(a)):\n",
    "            b = a[::-1]\n",
    "        string1 = string1 + b + \" \" \n",
    "    return string1\n",
    "\n",
    "\n",
    "#main\n",
    "string = input()\n",
    "\n",
    "ans = reverseEachWord(string)\n",
    "\n",
    "print(ans)"
   ]
  },
  {
   "cell_type": "markdown",
   "id": "10bdfa42",
   "metadata": {},
   "source": [
    "# Compress the String"
   ]
  },
  {
   "cell_type": "markdown",
   "id": "c7a29ec9",
   "metadata": {},
   "source": [
    "Write a program to do basic string compression. For a character which is consecutively repeated more than once, <br>\n",
    "replace consecutive duplicate occurrences with the count of repetitions.<br>\n",
    "Example:<br>\n",
    "If a string has 'x' repeated 5 times, replace this \"xxxxx\" with \"x5\".<br>\n",
    "\n",
    "The string is compressed only when the repeated character count is more than 1.<br>"
   ]
  },
  {
   "cell_type": "code",
   "execution_count": 28,
   "id": "1d9e530a",
   "metadata": {},
   "outputs": [
    {
     "name": "stdout",
     "output_type": "stream",
     "text": [
      "aaabbcddeeeee\n",
      "a3b2cd2e5\n"
     ]
    }
   ],
   "source": [
    "def checkMember(s):\n",
    "    ans = s[0]\n",
    "    length = len(s)\n",
    "    i = 1\n",
    "    while i < length:\n",
    "        count = 1\n",
    "        if ans[-1] == s[i]:\n",
    "            while i<length and ans[-1] == s[i]:\n",
    "                count += 1\n",
    "                i += 1\n",
    "            ans += str(count)\n",
    "        else:\n",
    "            ans += s[i]\n",
    "            i+=1\n",
    "    \n",
    "    return ans\n",
    "            \n",
    "            \n",
    "s = input()\n",
    "print(checkMember(s))"
   ]
  },
  {
   "cell_type": "markdown",
   "id": "b075cde5",
   "metadata": {},
   "source": [
    "# Wave Print"
   ]
  },
  {
   "cell_type": "markdown",
   "id": "782e5b87",
   "metadata": {},
   "source": [
    "For a given two-dimensional integer array/list of size (N x M), print the array/list in a sine wave order, <br>\n",
    "i.e, print the first column top to bottom, next column bottom to top and so on.<br>"
   ]
  },
  {
   "cell_type": "code",
   "execution_count": 30,
   "id": "a9d26521",
   "metadata": {},
   "outputs": [
    {
     "name": "stdout",
     "output_type": "stream",
     "text": [
      "3\n",
      "4\n",
      "1 2 3 4\n",
      "5 6 7 8\n",
      "9 10 11 12\n",
      "1 5 9 10 6 2 3 7 11 12 8 4 None\n"
     ]
    }
   ],
   "source": [
    "def wavePrint(mat, nRows, mCols):\n",
    "    n = nRows\n",
    "    m = mCols\n",
    "    for j in range(m):\n",
    "        if j % 2 == 0:\n",
    "            for i in range(n):\n",
    "                print(mat[i][j],end = ' ')  \n",
    "        else:\n",
    "            for k in range(n-1,-1,-1):\n",
    "                print(mat[k][j], end = ' ')\n",
    "\n",
    "nRows = int(input())\n",
    "mCols = int(input())\n",
    "\n",
    "mat = [list(map(int,input().split())) for row in range(n)]\n",
    "\n",
    "print(wavePrint(mat, nRows, mCols))"
   ]
  }
 ],
 "metadata": {
  "kernelspec": {
   "display_name": "Python 3",
   "language": "python",
   "name": "python3"
  },
  "language_info": {
   "codemirror_mode": {
    "name": "ipython",
    "version": 3
   },
   "file_extension": ".py",
   "mimetype": "text/x-python",
   "name": "python",
   "nbconvert_exporter": "python",
   "pygments_lexer": "ipython3",
   "version": "3.8.8"
  }
 },
 "nbformat": 4,
 "nbformat_minor": 5
}
